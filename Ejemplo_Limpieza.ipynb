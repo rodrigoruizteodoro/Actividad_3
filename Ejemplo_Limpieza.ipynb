{
 "cells": [
  {
   "cell_type": "code",
   "execution_count": null,
   "metadata": {},
   "outputs": [],
   "source": [
    "#Importamos las librerias pandas, numpy y matplotlib respectivamente\n",
    "import pandas as pd\n",
    "import numpy as np\n",
    "import matplotlib.pyplot as plt"
   ]
  },
  {
   "cell_type": "code",
   "execution_count": null,
   "metadata": {},
   "outputs": [],
   "source": [
    "#Carga desde un archivo .xlsx sin indice\n",
    "data = pd.read_excel('inmuebles2.xlsx')"
   ]
  },
  {
   "cell_type": "code",
   "execution_count": null,
   "metadata": {},
   "outputs": [],
   "source": [
    "#Convertir DataFrame a CSV\n",
    "data.to_csv(\"inmuebles2.csv\")"
   ]
  },
  {
   "cell_type": "code",
   "execution_count": null,
   "metadata": {},
   "outputs": [],
   "source": [
    "#Carga desde un archivo .csv sin indice\n",
    "data= pd.read_csv('inmuebles2.csv') \n",
    "data"
   ]
  },
  {
   "cell_type": "code",
   "execution_count": null,
   "metadata": {},
   "outputs": [],
   "source": [
    "#Eliminar primera fila o filas innecesarias\n",
    "data1= pd.read_csv('inmuebles2.csv', skiprows=1, low_memory=False)\n",
    "data1"
   ]
  },
  {
   "cell_type": "code",
   "execution_count": null,
   "metadata": {},
   "outputs": [],
   "source": [
    "#Eliminar columnas innecesarias\n",
    "data2= data1.drop(['0','Referencia'], axis=1)\n",
    "data2"
   ]
  },
  {
   "cell_type": "code",
   "execution_count": null,
   "metadata": {},
   "outputs": [],
   "source": [
    "#Identificar valores nulos\n",
    "valores_nulos=data2.isnull().sum()\n",
    "valores_nulos"
   ]
  },
  {
   "cell_type": "code",
   "execution_count": null,
   "metadata": {},
   "outputs": [],
   "source": [
    "#Realizamos una copia del dataframe\n",
    "data3=data2.copy()"
   ]
  },
  {
   "cell_type": "code",
   "execution_count": null,
   "metadata": {},
   "outputs": [],
   "source": [
    "#Sustituir valores nulos con promedio o media\n",
    "data3[\"Superficie\"]=data3[\"Superficie\"].fillna(round(data2[\"Superficie\"].mean(),1))\n",
    "data3"
   ]
  },
  {
   "cell_type": "code",
   "execution_count": null,
   "metadata": {},
   "outputs": [],
   "source": [
    "#Corroboramos valores nulos\n",
    "valores_nulos=data3.isnull().sum()\n",
    "valores_nulos"
   ]
  },
  {
   "cell_type": "code",
   "execution_count": null,
   "metadata": {},
   "outputs": [],
   "source": [
    "#Sustituir valores nulos con mediana\n",
    "data3[\"Precio Venta\"]=data3[\"Precio Venta\"].fillna(round(data2[\"Precio Venta\"].median(),1))\n",
    "data3"
   ]
  },
  {
   "cell_type": "code",
   "execution_count": null,
   "metadata": {},
   "outputs": [],
   "source": [
    "#Corroboramos valores nulos\n",
    "valores_nulos=data3.isnull().sum()\n",
    "valores_nulos"
   ]
  },
  {
   "cell_type": "code",
   "execution_count": null,
   "metadata": {},
   "outputs": [],
   "source": [
    "#Eliminamos filas con nulos\n",
    "data4= data3.dropna(0)\n",
    "data4"
   ]
  },
  {
   "cell_type": "code",
   "execution_count": null,
   "metadata": {},
   "outputs": [],
   "source": [
    "#Corroboramos valores nulos\n",
    "valores_nulos=data4.isnull().sum()\n",
    "valores_nulos"
   ]
  },
  {
   "cell_type": "code",
   "execution_count": null,
   "metadata": {},
   "outputs": [],
   "source": [
    "#Sustituir valores nulos por un valor numérico en  concreto \n",
    "#Filtro por columnas\n",
    "#Actividad_total=data4.iloc[ : , [6]]\n",
    "data3[\"Fecha Alta\"]= data3[\"Fecha Alta\"].fillna(10) \n",
    "data3\n",
    "\n"
   ]
  },
  {
   "cell_type": "code",
   "execution_count": null,
   "metadata": {},
   "outputs": [],
   "source": [
    "#Corroboramos valores nulos\n",
    "valores_nulos=data3.isnull().sum()\n",
    "valores_nulos"
   ]
  },
  {
   "cell_type": "code",
   "execution_count": null,
   "metadata": {},
   "outputs": [],
   "source": [
    "#Sustituir valores nulos por un string en  concreto \n",
    "#Filtro por columnas\n",
    "data3[\"Fecha Venta\"] =data3[\"Fecha Venta\"].fillna(\"2030-06-19 00:00:00\") \n",
    "data3"
   ]
  },
  {
   "cell_type": "code",
   "execution_count": null,
   "metadata": {},
   "outputs": [],
   "source": [
    "#Corroboramos valores nulos\n",
    "valores_nulos=data3.isnull().sum()\n",
    "valores_nulos"
   ]
  },
  {
   "cell_type": "code",
   "execution_count": null,
   "metadata": {},
   "outputs": [],
   "source": [
    "#Sustituir valores nulos por valores no nulos hacia adelante  \"forward fill\" (\"ffill\")\n",
    "#Filtro por columnas\n",
    "data3[\"Tipo\"] =data3[\"Tipo\"].fillna(method=\"ffill\") \n",
    "data3"
   ]
  },
  {
   "cell_type": "code",
   "execution_count": null,
   "metadata": {},
   "outputs": [],
   "source": [
    "#Corroboramos valores nulos\n",
    "valores_nulos=data3.isnull().sum()\n",
    "valores_nulos"
   ]
  },
  {
   "cell_type": "code",
   "execution_count": null,
   "metadata": {},
   "outputs": [],
   "source": [
    "#Sustituir valores nulos por valores no nulos hacia atrás backward fill\" (\"bfill\")\n",
    "#Filtro por columnas\n",
    "data3[\"Operación\"] =data3[\"Operación\"].fillna(method=\"bfill\") \n",
    "data2"
   ]
  },
  {
   "cell_type": "code",
   "execution_count": null,
   "metadata": {},
   "outputs": [],
   "source": [
    "#Corroboramos valores nulos\n",
    "valores_nulos=data3.isnull().sum()\n",
    "valores_nulos"
   ]
  },
  {
   "cell_type": "code",
   "execution_count": null,
   "metadata": {},
   "outputs": [],
   "source": [
    "#Sustituir valores nulos por valores no nulos hacia atrás backward fill\" (\"bfill\")\n",
    "#Filtro por columnas\n",
    "data3[\"Provincia\"] =data3[\"Provincia\"].fillna(method=\"bfill\") \n",
    "data2"
   ]
  },
  {
   "cell_type": "code",
   "execution_count": null,
   "metadata": {},
   "outputs": [],
   "source": [
    "#Corroboramos valores nulos\n",
    "valores_nulos=data3.isnull().sum()\n",
    "valores_nulos"
   ]
  },
  {
   "cell_type": "code",
   "execution_count": null,
   "metadata": {},
   "outputs": [],
   "source": [
    "#Sustituir valores nulos por valores no nulos hacia adelante forward fill\" (\"ffill\")\n",
    "#Filtro por columnas\n",
    "data3[\"Vendedor\"] =data3[\"Vendedor\"].fillna(method=\"ffill\") \n",
    "data3"
   ]
  },
  {
   "cell_type": "code",
   "execution_count": null,
   "metadata": {},
   "outputs": [],
   "source": [
    "#Corroboramos valores nulos\n",
    "valores_nulos=data3.isnull().sum()\n",
    "valores_nulos"
   ]
  },
  {
   "cell_type": "code",
   "execution_count": null,
   "metadata": {},
   "outputs": [],
   "source": [
    "#Obtenemos la cuenta de los elementos nulos del dataframe completo\n",
    "Cuenta_Total_Nulos= data4.isnull().sum().sum()\n",
    "Cuenta_Total_Nulos\n"
   ]
  },
  {
   "cell_type": "code",
   "execution_count": null,
   "metadata": {},
   "outputs": [],
   "source": [
    "#Convertir DataFrame a CSV\n",
    "data3.to_csv(\"inmuebles_sin_nulos.csv\")"
   ]
  },
  {
   "cell_type": "code",
   "execution_count": null,
   "metadata": {},
   "outputs": [],
   "source": [
    "#Realizamos histograma de variables cuantitativas\n",
    "plt.hist(x=data4[\"Superficie\"], color='blue', rwidth=0.50)\n",
    "plt.title('Histograma de Superficies')\n",
    "plt.xlabel('Superficies')\n",
    "plt.ylabel('Frecuencia')\n",
    "\n",
    "plt.show() #dibujamos el histograma"
   ]
  },
  {
   "cell_type": "code",
   "execution_count": null,
   "metadata": {},
   "outputs": [],
   "source": [
    "# Apilar los __DataFrames__ uno encima del otro\n",
    "vertical_concat = pd.concat([data2, data], axis=0)\n",
    "\n",
    "\n",
    "# Coloque los __DataFrames__ de lado a lado\n",
    "horizontal_concat = pd.concat([data2, fecha], axis=1)\n"
   ]
  }
 ],
 "metadata": {
  "kernelspec": {
   "display_name": "Python 3.10.6 64-bit",
   "language": "python",
   "name": "python3"
  },
  "language_info": {
   "codemirror_mode": {
    "name": "ipython",
    "version": 3
   },
   "file_extension": ".py",
   "mimetype": "text/x-python",
   "name": "python",
   "nbconvert_exporter": "python",
   "pygments_lexer": "ipython3",
   "version": "3.10.6"
  },
  "orig_nbformat": 4,
  "vscode": {
   "interpreter": {
    "hash": "3eb06009a151591584a8e64b076b6e8b9584003a8eff826d2bd74c5ffbf9e972"
   }
  }
 },
 "nbformat": 4,
 "nbformat_minor": 2
}
