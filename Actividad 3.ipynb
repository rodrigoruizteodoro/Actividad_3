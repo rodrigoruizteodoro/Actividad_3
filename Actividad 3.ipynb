{
 "cells": [
  {
   "cell_type": "code",
   "execution_count": null,
   "metadata": {},
   "outputs": [],
   "source": [
    "import pandas as pd\n",
    "import numpy as np\n",
    "import matplotlib.pyplot as plt"
   ]
  },
  {
   "cell_type": "code",
   "execution_count": null,
   "metadata": {},
   "outputs": [],
   "source": [
    "#Carga desde un archivo .csv sin indice\n",
    "data= pd.read_csv('Ventas_totales.csv') \n",
    "data"
   ]
  },
  {
   "cell_type": "code",
   "execution_count": null,
   "metadata": {},
   "outputs": [],
   "source": [
    "#Identificar valores nulos\n",
    "valores_nulos=data.isnull().sum()\n",
    "valores_nulos"
   ]
  },
  {
   "cell_type": "code",
   "execution_count": null,
   "metadata": {},
   "outputs": [],
   "source": [
    "#Realizamos una copia del dataframe\n",
    "data2=data.copy()"
   ]
  },
  {
   "cell_type": "code",
   "execution_count": null,
   "metadata": {},
   "outputs": [],
   "source": [
    "#La primera transformación que se le hará a nuestra base de datos será el sustituir valores nulos con promedio o media de las variables \n",
    "#Salon_ventas , subtotal_ventas_alimentos_bebidas y otros\n",
    "data2[\"salon_ventas\"]=data2[\"salon_ventas\"].fillna(round(data[\"salon_ventas\"].mean(),1))\n",
    "data2"
   ]
  },
  {
   "cell_type": "code",
   "execution_count": null,
   "metadata": {},
   "outputs": [],
   "source": [
    "#Identificar valores nulos\n",
    "valores_nulos=data2.isnull().sum()\n",
    "valores_nulos"
   ]
  },
  {
   "cell_type": "code",
   "execution_count": null,
   "metadata": {},
   "outputs": [],
   "source": [
    "#Sustitución de valores nulos con promedio o media de la variable subtotal_ventas_alimentos_bebidas\n",
    "data2[\"subtotal_ventas_alimentos_bebidas\"]=data2[\"subtotal_ventas_alimentos_bebidas\"].fillna(round(data[\"subtotal_ventas_alimentos_bebidas\"].mean(),1))\n",
    "data2"
   ]
  },
  {
   "cell_type": "code",
   "execution_count": null,
   "metadata": {},
   "outputs": [],
   "source": [
    "#Identificar valores nulos\n",
    "valores_nulos=data2.isnull().sum()\n",
    "valores_nulos"
   ]
  },
  {
   "cell_type": "code",
   "execution_count": null,
   "metadata": {},
   "outputs": [],
   "source": [
    "#Sustitución de valores nulos con promedio o media de la variable otros\n",
    "data2[\"otros\"]=data2[\"otros\"].fillna(round(data[\"otros\"].mean(),1))\n",
    "data2"
   ]
  },
  {
   "cell_type": "code",
   "execution_count": null,
   "metadata": {},
   "outputs": [],
   "source": [
    "#Identificar valores nulos\n",
    "valores_nulos=data2.isnull().sum()\n",
    "valores_nulos"
   ]
  },
  {
   "cell_type": "code",
   "execution_count": null,
   "metadata": {},
   "outputs": [],
   "source": [
    "#A continuación se sustituiran los valores nulos con mediana de las variables\n",
    "#tarjetas_credito,almacen,indumentaria_calzado_textiles_hogar  e electronicos_articulos_hogar     \n",
    "data2[\"tarjetas_credito\"]=data2[\"tarjetas_credito\"].fillna(round(data[\"tarjetas_credito\"].median(),1))\n",
    "data2\n",
    "\n",
    "data2[\"almacen\"]=data2[\"almacen\"].fillna(round(data[\"almacen\"].median(),1))\n",
    "data2\n",
    "\n",
    "data2[\"indumentaria_calzado_textiles_hogar\"]=data2[\"indumentaria_calzado_textiles_hogar\"].fillna(round(data[\"indumentaria_calzado_textiles_hogar\"].median(),1))\n",
    "data2\n",
    "\n",
    "data2[\"electronicos_articulos_hogar\"]=data2[\"electronicos_articulos_hogar\"].fillna(round(data[\"electronicos_articulos_hogar\"].median(),1))\n",
    "data2"
   ]
  },
  {
   "cell_type": "code",
   "execution_count": null,
   "metadata": {},
   "outputs": [],
   "source": [
    "#Identificar valores nulos\n",
    "valores_nulos=data2.isnull().sum()\n",
    "valores_nulos"
   ]
  },
  {
   "cell_type": "code",
   "execution_count": null,
   "metadata": {},
   "outputs": [],
   "source": [
    "#Las columnas que contienen valores nulos se eliminaron para un mayor manejo de datos y nuestro dataframe\n",
    "#quedó con 16 variables\n",
    "data2= data2.drop(['alimentos_preparados_rotiseria','verduleria_fruteria','carnes','lacteos','panaderia','bebidas','otros_medios','tarjetas_debito'], axis=1)\n",
    "data2"
   ]
  },
  {
   "cell_type": "code",
   "execution_count": null,
   "metadata": {},
   "outputs": [],
   "source": [
    "#Nuestras 16 variables ya no conienten valores nulos pero si outline values\n",
    "valores_nulos=data2.isnull().sum()\n",
    "valores_nulos"
   ]
  },
  {
   "cell_type": "code",
   "execution_count": null,
   "metadata": {},
   "outputs": [],
   "source": [
    "#Variable                           ¿outline values?\n",
    "#indice_tiempo                       No aplica\n",
    "#ventas_precios_corrientes              si\n",
    "#ventas_precios_constantes              si\n",
    "#ventas_totales_canal_venta             No\n",
    "#salon_ventas                           si\n",
    "#canales_on_line                        No\n",
    "#ventas_totales_medio_pago              No\n",
    "#efectivo                               No\n",
    "#tarjetas_credito                       si\n",
    "#ventas_totales_grupo_articulos         No\n",
    "#subtotal_ventas_alimentos_bebidas      si\n",
    "#almacen                                No\n",
    "#articulos_limpieza_perfumeria          No\n",
    "#indumentaria_calzado_textiles_hogar    si\n",
    "#electronicos_articulos_hogar           si\n",
    "#otros                                  No"
   ]
  },
  {
   "cell_type": "code",
   "execution_count": null,
   "metadata": {},
   "outputs": [],
   "source": [
    "#Ahora visualizaremos si nuestras variables con outliers y si es así aplicaremos diferentes metodos \n",
    "#para lidiar con esos valores\n",
    "boxplot = data2.boxplot(column=['ventas_precios_constantes','salon_ventas','tarjetas_credito','subtotal_ventas_alimentos_bebidas','indumentaria_calzado_textiles_hogar','electronicos_articulos_hogar']) "
   ]
  },
  {
   "cell_type": "code",
   "execution_count": null,
   "metadata": {},
   "outputs": [],
   "source": [
    "#'ventas_precios_constantes'-\n",
    "#'salon_ventas'-\n",
    "# 'tarjetas_credito'-\n",
    "#'Subtotal_ventas_alimentos_bebidas'\n",
    "#'indumentaria_calzado_textiles_hogar'\n",
    "#'electronicos_articulos_hogar' \n",
    "#Tienen outliers\n",
    "#Así que se aplicará el método aplicando Cuartiles. Encuentro cuartiles 0.25 y 0.75\n",
    "\n",
    "y=data2[\"tarjetas_credito\"]\n",
    "\n",
    "percentile25=y.quantile(0.25) #Q1\n",
    "percentile75=y.quantile(0.75) #Q3\n",
    "iqr= percentile75 - percentile25\n",
    "\n",
    "Limite_Superior_iqr= percentile75 + 1.5*iqr\n",
    "Limite_Inferior_iqr= percentile25 - 1.5*iqr\n",
    "print(\"Limite superior permitido\", Limite_Superior_iqr)\n",
    "print(\"Limite inferior permitido\", Limite_Inferior_iqr)\n",
    "\n",
    "outliers_tarjetas_credito= data2[(y>Limite_Superior_iqr)|(y<Limite_Inferior_iqr)]\n",
    "outliers_tarjetas_credito\n"
   ]
  },
  {
   "cell_type": "code",
   "execution_count": null,
   "metadata": {},
   "outputs": [],
   "source": [
    "boxplot = data2.boxplot(column=['tarjetas_credito']) "
   ]
  },
  {
   "cell_type": "code",
   "execution_count": null,
   "metadata": {},
   "outputs": [],
   "source": [
    "#tarjetas_credito\n",
    "data_clean_tarjetas_credito= data2[(y<=Limite_Superior_iqr)&(y>=Limite_Inferior_iqr)]\n",
    "boxplot = data_clean_tarjetas_credito.boxplot(column=['tarjetas_credito']) "
   ]
  },
  {
   "cell_type": "code",
   "execution_count": null,
   "metadata": {},
   "outputs": [],
   "source": [
    "#salon_ventas\n",
    "\n",
    "y=data2[\"salon_ventas\"]\n",
    "\n",
    "percentile25=y.quantile(0.25) #Q1\n",
    "percentile75=y.quantile(0.75) #Q3\n",
    "iqr= percentile75 - percentile25\n",
    "\n",
    "Limite_Superior_iqr= percentile75 + 1.5*iqr\n",
    "Limite_Inferior_iqr= percentile25 - 1.5*iqr\n",
    "print(\"Limite superior permitido\", Limite_Superior_iqr)\n",
    "print(\"Limite inferior permitido\", Limite_Inferior_iqr)\n",
    "\n",
    "outliers_salon_ventas= data2[(y>Limite_Superior_iqr)|(y<Limite_Inferior_iqr)]\n",
    "outliers_salon_ventas"
   ]
  },
  {
   "cell_type": "code",
   "execution_count": null,
   "metadata": {},
   "outputs": [],
   "source": [
    "boxplot = data2.boxplot(column=['salon_ventas']) "
   ]
  },
  {
   "cell_type": "code",
   "execution_count": null,
   "metadata": {},
   "outputs": [],
   "source": [
    "#salon_ventas\n",
    "data_clean_salon_venta= data2[(y<=Limite_Superior_iqr)&(y>=Limite_Inferior_iqr)]\n",
    "boxplot = data_clean_salon_venta.boxplot(column=['salon_ventas']) "
   ]
  },
  {
   "cell_type": "code",
   "execution_count": null,
   "metadata": {},
   "outputs": [],
   "source": [
    "#Vemos como se han eliminado nuestros outline values; sin embargo, siguen existiendo estos valores en nuestra\n",
    "#variable debido a que nuevamente se han ajustado nuestro grafico y algunos quedan fuera de nuestro rango"
   ]
  },
  {
   "cell_type": "code",
   "execution_count": null,
   "metadata": {},
   "outputs": [],
   "source": [
    "#ventas_precios_constantes\n",
    "#Método aplicando desviación estandar. Encuentro los valores extremos\n",
    "y=data2[\"ventas_precios_constantes\"]\n",
    "Limite_Superior= y.mean() + 3*y.std()\n",
    "Limite_Inferior= y.mean() - 3*y.std()\n",
    "print(\"Limite superior permitido\", Limite_Superior)\n",
    "print(\"Limite inferior permitido\", Limite_Inferior)\n",
    "\n",
    "#Encontramos Ouliers\n",
    "outliers_ventas_precios_constantes= data2[(y>Limite_Superior)|(y<Limite_Inferior)]\n",
    "outliers_ventas_precios_constantes"
   ]
  },
  {
   "cell_type": "code",
   "execution_count": null,
   "metadata": {},
   "outputs": [],
   "source": [
    "#ventas_precios_constantes\n",
    "data_clean_ventas_precios_constantes= data2[(y<=Limite_Superior)&(y>=Limite_Inferior)]\n",
    "data_clean_ventas_precios_constantes\n",
    "\n",
    "boxplot = data_clean_ventas_precios_constantes.boxplot(column=['ventas_precios_constantes']) "
   ]
  },
  {
   "cell_type": "code",
   "execution_count": null,
   "metadata": {},
   "outputs": [],
   "source": [
    "#Vemos como se han eliminado nuestros outline values; pero del mismo modo siguen existiendo estos outliers en nuestra\n",
    "#variable debido a que se ajusta nuestros rangos"
   ]
  },
  {
   "cell_type": "code",
   "execution_count": null,
   "metadata": {},
   "outputs": [],
   "source": [
    "#Método aplicando desviación estandar. Encuentro los valores extremos\n",
    "#subtotal_ventas_alimentos_bebidas\n",
    "\n",
    "y2=data2[\"subtotal_ventas_alimentos_bebidas\"]\n",
    "\n",
    "percentile25_2=y2.quantile(0.25) #Q1\n",
    "percentile75_2=y2.quantile(0.75) #Q3\n",
    "iqr2= percentile75_2- percentile25_2\n",
    "\n",
    "Limite_Superior_iqr2= percentile75_2 + 1.5*iqr2\n",
    "Limite_Inferior_iqr2= percentile25_2 - 1.5*iqr2\n",
    "print(\"Limite superior permitido\", Limite_Superior_iqr2)\n",
    "print(\"Limite inferior permitido\", Limite_Inferior_iqr2)\n",
    "\n",
    "#Encontramos Ouliers\n",
    "outliers_subtotal_ventas_alimentos_bebidas= data2[(y>Limite_Superior_iqr2)|(y<Limite_Inferior_iqr2)]\n",
    "outliers_subtotal_ventas_alimentos_bebidas"
   ]
  },
  {
   "cell_type": "code",
   "execution_count": null,
   "metadata": {},
   "outputs": [],
   "source": [
    "#subtotal_ventas_alimentos_bebidas\n",
    "boxplot = data2.boxplot(column=['subtotal_ventas_alimentos_bebidas']) "
   ]
  },
  {
   "cell_type": "code",
   "execution_count": null,
   "metadata": {},
   "outputs": [],
   "source": [
    "#subtotal_ventas_alimentos_bebidas\n",
    "data_clean_subtotal_ventas_alimentos_bebidas= data2[(y2<=Limite_Superior_iqr2)&(y2>=Limite_Inferior_iqr2)]\n",
    "data_clean_subtotal_ventas_alimentos_bebidas\n",
    "\n",
    "boxplot = data_clean_subtotal_ventas_alimentos_bebidas.boxplot(column=['subtotal_ventas_alimentos_bebidas']) "
   ]
  },
  {
   "cell_type": "code",
   "execution_count": null,
   "metadata": {},
   "outputs": [],
   "source": [
    "#indumentaria_calzado_textiles_hogar\n",
    "\n",
    "y3=data2[\"indumentaria_calzado_textiles_hogar\"]\n",
    "\n",
    "percentile25_3=y3.quantile(0.25) #Q1\n",
    "percentile75_3=y3.quantile(0.75) #Q3\n",
    "iqr3= percentile75_3- percentile25_3\n",
    "\n",
    "Limite_Superior_iqr3= percentile75_3 + 1.5*iqr3\n",
    "Limite_Inferior_iqr3= percentile25_3 - 1.5*iqr3\n",
    "print(\"Limite superior permitido\", Limite_Superior_iqr3)\n",
    "print(\"Limite inferior permitido\", Limite_Inferior_iqr3)\n",
    "\n",
    "#Encontramos Ouliers\n",
    "outliers_subtotal_indumentaria_calzado_textiles_hogar= data2[(y3>Limite_Superior_iqr3)|(y3<Limite_Inferior_iqr3)]\n",
    "outliers_subtotal_indumentaria_calzado_textiles_hogar"
   ]
  },
  {
   "cell_type": "code",
   "execution_count": null,
   "metadata": {},
   "outputs": [],
   "source": [
    "#indumentaria_calzado_textiles_hogar\n",
    "boxplot = data2.boxplot(column=['indumentaria_calzado_textiles_hogar']) "
   ]
  },
  {
   "cell_type": "code",
   "execution_count": null,
   "metadata": {},
   "outputs": [],
   "source": [
    "#indumentaria_calzado_textiles_hogar\n",
    "data_clean_indumentaria_calzado_textiles_hogar= data2[(y3<=Limite_Superior_iqr3)&(y3>=Limite_Inferior_iqr3)]\n",
    "data_clean_indumentaria_calzado_textiles_hogar\n",
    "\n",
    "boxplot = data_clean_subtotal_ventas_alimentos_bebidas.boxplot(column=['indumentaria_calzado_textiles_hogar']) "
   ]
  },
  {
   "cell_type": "code",
   "execution_count": null,
   "metadata": {},
   "outputs": [],
   "source": [
    "#electronicos_articulos_hogar\n",
    "\n",
    "y4=data2[\"electronicos_articulos_hogar\"]\n",
    "\n",
    "percentile25_4=y4.quantile(0.25) #Q1\n",
    "percentile75_4=y4.quantile(0.75) #Q3\n",
    "iqr4= percentile75_4- percentile25_4\n",
    "\n",
    "Limite_Superior_iqr4= percentile75_4 + 1.5*iqr4\n",
    "Limite_Inferior_iqr4= percentile25_4 - 1.5*iqr4\n",
    "print(\"Limite superior permitido\", Limite_Superior_iqr4)\n",
    "print(\"Limite inferior permitido\", Limite_Inferior_iqr4)\n",
    "\n",
    "#Encontramos Ouliers\n",
    "outliers_subtotal_electronicos_articulos_hogar= data2[(y4>Limite_Superior_iqr4)|(y4<Limite_Inferior_iqr4)]\n",
    "outliers_subtotal_electronicos_articulos_hogar"
   ]
  },
  {
   "cell_type": "code",
   "execution_count": null,
   "metadata": {},
   "outputs": [],
   "source": [
    "#electronicos_articulos_hogar\n",
    "boxplot = data2.boxplot(column=['electronicos_articulos_hogar']) "
   ]
  },
  {
   "cell_type": "code",
   "execution_count": null,
   "metadata": {},
   "outputs": [],
   "source": [
    "#electronicos_articulos_hogar\n",
    "data_clean_electronicos_articulos_hogar= data2[(y4<=Limite_Superior_iqr4)&(y4>=Limite_Inferior_iqr4)]\n",
    "data_clean_electronicos_articulos_hogar\n",
    "\n",
    "boxplot = data_clean_subtotal_ventas_alimentos_bebidas.boxplot(column=['electronicos_articulos_hogar']) "
   ]
  },
  {
   "cell_type": "code",
   "execution_count": null,
   "metadata": {},
   "outputs": [],
   "source": [
    "data_clean_tarjetas_credito.to_csv(\"data_clean_tarjetas_credito\")"
   ]
  }
 ],
 "metadata": {
  "kernelspec": {
   "display_name": "Python 3.10.6 64-bit",
   "language": "python",
   "name": "python3"
  },
  "language_info": {
   "codemirror_mode": {
    "name": "ipython",
    "version": 3
   },
   "file_extension": ".py",
   "mimetype": "text/x-python",
   "name": "python",
   "nbconvert_exporter": "python",
   "pygments_lexer": "ipython3",
   "version": "3.10.6"
  },
  "orig_nbformat": 4,
  "vscode": {
   "interpreter": {
    "hash": "aee8b7b246df8f9039afb4144a1f6fd8d2ca17a180786b69acc140d282b71a49"
   }
  }
 },
 "nbformat": 4,
 "nbformat_minor": 2
}
